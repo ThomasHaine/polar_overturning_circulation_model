{
 "cells": [
  {
   "cell_type": "code",
   "execution_count": 1,
   "metadata": {},
   "outputs": [],
   "source": [
    "# Sympy Symbolic matrix inverse for the Polar Overturning Circulation model. \n",
    "# twnh Jan, Feb 20\n",
    "# SPENT A LONG TIME BUG HUNTING TO FIND PYTHON STARTS ARRAYS AT ELEMENT 0 NOT 1!!!!"
   ]
  },
  {
   "cell_type": "code",
   "execution_count": 2,
   "metadata": {},
   "outputs": [],
   "source": [
    "from numpy import *\n",
    "from sympy import *\n",
    "import sympy.matrices.matrices\n",
    "init_printing()\n",
    "import sympy\n",
    "import math\n",
    "from mpmath import mp\n",
    "from sympy.abc import rho\n",
    "\n",
    "rho_0, rho_1, rho_2, rho_3, rho_i, rho_s, rho_a, rho = symbols('rho_0 rho_1 rho_2 rho_3 rho_i rho_s rho_a rho', real=True)\n",
    "Q, Q_m, Q_p, Q_i, F, U_1, U_2, U_3, U_i, u_s, S_s, T_f, T_1, T_2, T_3, T_a, T, S_1, S_2, S_3, S_a, S_i, S, Sstar = symbols('Q Q_m Q_p Q_i F U_1 U_2 U_3 U_i u_s S_s T_f T_1 T_2 T_3 T_a T S_1 S_2 S_3 S_a S_i S Sstar', real=True)\n",
    "c_p, L, phi, Phi, gamma, DeltaS = symbols('c_p L phi Phi gamma DeltaS', real=True)\n",
    "X = symbols('X', real=True)"
   ]
  },
  {
   "cell_type": "code",
   "execution_count": 3,
   "metadata": {},
   "outputs": [
    {
     "name": "stdout",
     "output_type": "stream",
     "text": [
      "Matrix E:\n"
     ]
    },
    {
     "data": {
      "text/latex": [
       "$\\displaystyle \\left[\\begin{matrix}\\rho_{2} & \\rho_{3} & \\rho_{i}\\\\S_{2} \\rho_{2} & S_{3} \\rho_{3} & S_{i} \\rho_{i}\\\\T_{f} c_{p} \\rho_{2} & T_{3} c_{p} \\rho_{3} & - L \\rho_{i}\\end{matrix}\\right]$"
      ],
      "text/plain": [
       "⎡   ρ₂         ρ₃      ρᵢ  ⎤\n",
       "⎢                          ⎥\n",
       "⎢  S₂⋅ρ₂     S₃⋅ρ₃    Sᵢ⋅ρᵢ⎥\n",
       "⎢                          ⎥\n",
       "⎣T_f⋅cₚ⋅ρ₂  T₃⋅cₚ⋅ρ₃  -L⋅ρᵢ⎦"
      ]
     },
     "metadata": {},
     "output_type": "display_data"
    },
    {
     "name": "stdout",
     "output_type": "stream",
     "text": [
      " \n",
      "E inverse:\n"
     ]
    },
    {
     "data": {
      "text/latex": [
       "$\\displaystyle \\left[\\begin{matrix}- \\frac{L S_{3} + S_{i} T_{3} c_{p}}{\\rho_{2} \\left(L S_{2} - L S_{3} + S_{2} T_{3} c_{p} - S_{3} T_{f} c_{p} - S_{i} T_{3} c_{p} + S_{i} T_{f} c_{p}\\right)} & \\frac{L + T_{3} c_{p}}{\\rho_{2} \\left(L S_{2} - L S_{3} + S_{2} T_{3} c_{p} - S_{3} T_{f} c_{p} - S_{i} T_{3} c_{p} + S_{i} T_{f} c_{p}\\right)} & \\frac{S_{3} - S_{i}}{\\rho_{2} \\left(c_{p} \\left(- S_{2} + S_{i}\\right) \\left(T_{3} - T_{f}\\right) + \\left(L + T_{f} c_{p}\\right) \\left(- S_{2} + S_{3}\\right)\\right)}\\\\\\frac{L S_{2} + S_{i} T_{f} c_{p}}{\\rho_{3} \\left(L S_{2} - L S_{3} + S_{2} T_{3} c_{p} - S_{3} T_{f} c_{p} - S_{i} T_{3} c_{p} + S_{i} T_{f} c_{p}\\right)} & - \\frac{L + T_{f} c_{p}}{\\rho_{3} \\left(c_{p} \\left(S_{2} - S_{i}\\right) \\left(T_{3} - T_{f}\\right) + \\left(L + T_{f} c_{p}\\right) \\left(S_{2} - S_{3}\\right)\\right)} & \\frac{S_{2} - S_{i}}{\\rho_{3} \\left(c_{p} \\left(S_{2} - S_{i}\\right) \\left(T_{3} - T_{f}\\right) + \\left(L + T_{f} c_{p}\\right) \\left(S_{2} - S_{3}\\right)\\right)}\\\\\\frac{c_{p} \\left(S_{2} \\left(T_{3} - T_{f}\\right) + T_{f} \\left(S_{2} - S_{3}\\right)\\right)}{\\rho_{i} \\left(c_{p} \\left(S_{2} - S_{i}\\right) \\left(T_{3} - T_{f}\\right) + \\left(L + T_{f} c_{p}\\right) \\left(S_{2} - S_{3}\\right)\\right)} & \\frac{c_{p} \\left(- T_{3} + T_{f}\\right)}{\\rho_{i} \\left(c_{p} \\left(S_{2} - S_{i}\\right) \\left(T_{3} - T_{f}\\right) + \\left(L + T_{f} c_{p}\\right) \\left(S_{2} - S_{3}\\right)\\right)} & \\frac{- S_{2} + S_{3}}{\\rho_{i} \\left(c_{p} \\left(S_{2} - S_{i}\\right) \\left(T_{3} - T_{f}\\right) + \\left(L + T_{f} c_{p}\\right) \\left(S_{2} - S_{3}\\right)\\right)}\\end{matrix}\\right]$"
      ],
      "text/plain": [
       "⎡                     -(L⋅S₃ + Sᵢ⋅T₃⋅cₚ)                                      \n",
       "⎢──────────────────────────────────────────────────────────────  ─────────────\n",
       "⎢ρ₂⋅(L⋅S₂ - L⋅S₃ + S₂⋅T₃⋅cₚ - S₃⋅T_f⋅cₚ - Sᵢ⋅T₃⋅cₚ + Sᵢ⋅T_f⋅cₚ)  ρ₂⋅(L⋅S₂ - L⋅\n",
       "⎢                                                                             \n",
       "⎢                       L⋅S₂ + Sᵢ⋅T_f⋅cₚ                                      \n",
       "⎢──────────────────────────────────────────────────────────────      ─────────\n",
       "⎢ρ₃⋅(L⋅S₂ - L⋅S₃ + S₂⋅T₃⋅cₚ - S₃⋅T_f⋅cₚ - Sᵢ⋅T₃⋅cₚ + Sᵢ⋅T_f⋅cₚ)      ρ₃⋅(cₚ⋅(S\n",
       "⎢                                                                             \n",
       "⎢              cₚ⋅(S₂⋅(T₃ - T_f) + T_f⋅(S₂ - S₃))                             \n",
       "⎢    ─────────────────────────────────────────────────────           ─────────\n",
       "⎣    ρᵢ⋅(cₚ⋅(S₂ - Sᵢ)⋅(T₃ - T_f) + (L + T_f⋅cₚ)⋅(S₂ - S₃))           ρᵢ⋅(cₚ⋅(S\n",
       "\n",
       "             L + T₃⋅cₚ                                                     S₃ \n",
       "─────────────────────────────────────────────────  ───────────────────────────\n",
       "S₃ + S₂⋅T₃⋅cₚ - S₃⋅T_f⋅cₚ - Sᵢ⋅T₃⋅cₚ + Sᵢ⋅T_f⋅cₚ)  ρ₂⋅(cₚ⋅(-S₂ + Sᵢ)⋅(T₃ - T_f\n",
       "                                                                              \n",
       "           -(L + T_f⋅cₚ)                                                   S₂ \n",
       "────────────────────────────────────────────        ──────────────────────────\n",
       "₂ - Sᵢ)⋅(T₃ - T_f) + (L + T_f⋅cₚ)⋅(S₂ - S₃))        ρ₃⋅(cₚ⋅(S₂ - Sᵢ)⋅(T₃ - T_f\n",
       "                                                                              \n",
       "           cₚ⋅(-T₃ + T_f)                                                  -S₂\n",
       "────────────────────────────────────────────        ──────────────────────────\n",
       "₂ - Sᵢ)⋅(T₃ - T_f) + (L + T_f⋅cₚ)⋅(S₂ - S₃))        ρᵢ⋅(cₚ⋅(S₂ - Sᵢ)⋅(T₃ - T_f\n",
       "\n",
       "- Sᵢ                        ⎤\n",
       "────────────────────────────⎥\n",
       ") + (L + T_f⋅cₚ)⋅(-S₂ + S₃))⎥\n",
       "                            ⎥\n",
       "- Sᵢ                        ⎥\n",
       "─────────────────────────── ⎥\n",
       ") + (L + T_f⋅cₚ)⋅(S₂ - S₃)) ⎥\n",
       "                            ⎥\n",
       " + S₃                       ⎥\n",
       "─────────────────────────── ⎥\n",
       ") + (L + T_f⋅cₚ)⋅(S₂ - S₃)) ⎦"
      ]
     },
     "metadata": {},
     "output_type": "display_data"
    },
    {
     "name": "stdout",
     "output_type": "stream",
     "text": [
      " \n",
      "E determinant:\n"
     ]
    },
    {
     "data": {
      "image/png": "[encoded data removed]",
      "text/latex": [
       "$\\displaystyle \\rho_{2} \\rho_{3} \\rho_{i} \\left(L S_{2} - L S_{3} + S_{2} T_{3} c_{p} - S_{3} T_{f} c_{p} - S_{i} T_{3} c_{p} + S_{i} T_{f} c_{p}\\right)$"
      ],
      "text/plain": [
       "ρ₂⋅ρ₃⋅ρᵢ⋅(L⋅S₂ - L⋅S₃ + S₂⋅T₃⋅cₚ - S₃⋅T_f⋅cₚ - Sᵢ⋅T₃⋅cₚ + Sᵢ⋅T_f⋅cₚ)"
      ]
     },
     "metadata": {},
     "output_type": "display_data"
    },
    {
     "name": "stdout",
     "output_type": "stream",
     "text": [
      " \n",
      "T3 formula for determinant=0:\n"
     ]
    },
    {
     "data": {
      "image/png": "[encoded data removed]",
      "text/latex": [
       "$\\displaystyle T_{3} = \\frac{- L S_{2} + S_{3} \\left(L + T_{f} c_{p}\\right) - S_{i} T_{f} c_{p}}{c_{p} \\left(S_{2} - S_{i}\\right)}$"
      ],
      "text/plain": [
       "     -L⋅S₂ + S₃⋅(L + T_f⋅cₚ) - Sᵢ⋅T_f⋅cₚ\n",
       "T₃ = ───────────────────────────────────\n",
       "                 cₚ⋅(S₂ - Sᵢ)           "
      ]
     },
     "metadata": {},
     "output_type": "display_data"
    },
    {
     "name": "stdout",
     "output_type": "stream",
     "text": [
      " \n",
      "Right hand side:\n"
     ]
    },
    {
     "data": {
      "text/latex": [
       "$\\displaystyle \\left[\\begin{matrix}F - U_{1} \\rho_{1}\\\\- S_{1} U_{1} \\rho_{1}\\\\Q - T_{1} U_{1} c_{p} \\rho_{1}\\end{matrix}\\right]$"
      ],
      "text/plain": [
       "⎡   F - U₁⋅ρ₁   ⎤\n",
       "⎢               ⎥\n",
       "⎢   -S₁⋅U₁⋅ρ₁   ⎥\n",
       "⎢               ⎥\n",
       "⎣Q - T₁⋅U₁⋅cₚ⋅ρ₁⎦"
      ]
     },
     "metadata": {},
     "output_type": "display_data"
    },
    {
     "name": "stdout",
     "output_type": "stream",
     "text": [
      " \n",
      "------------------------------------------------------------------------------------------------------------\n",
      " \n",
      "Formula for U_2:\n"
     ]
    },
    {
     "data": {
      "image/png": "[encoded data removed]",
      "text/latex": [
       "$\\displaystyle U_{2} = - \\frac{F L S_{3} + F S_{i} T_{3} c_{p} + L S_{1} U_{1} \\rho_{1} - L S_{3} U_{1} \\rho_{1} + Q S_{3} - Q S_{i} + S_{1} T_{3} U_{1} c_{p} \\rho_{1} - S_{3} T_{1} U_{1} c_{p} \\rho_{1} + S_{i} T_{1} U_{1} c_{p} \\rho_{1} - S_{i} T_{3} U_{1} c_{p} \\rho_{1}}{\\rho_{2} \\left(L S_{2} - L S_{3} + S_{2} T_{3} c_{p} - S_{3} T_{f} c_{p} - S_{i} T_{3} c_{p} + S_{i} T_{f} c_{p}\\right)}$"
      ],
      "text/plain": [
       "     -(F⋅L⋅S₃ + F⋅Sᵢ⋅T₃⋅cₚ + L⋅S₁⋅U₁⋅ρ₁ - L⋅S₃⋅U₁⋅ρ₁ + Q⋅S₃ - Q⋅Sᵢ + S₁⋅T₃⋅U₁⋅\n",
       "U₂ = ─────────────────────────────────────────────────────────────────────────\n",
       "                                        ρ₂⋅(L⋅S₂ - L⋅S₃ + S₂⋅T₃⋅cₚ - S₃⋅T_f⋅cₚ\n",
       "\n",
       "cₚ⋅ρ₁ - S₃⋅T₁⋅U₁⋅cₚ⋅ρ₁ + Sᵢ⋅T₁⋅U₁⋅cₚ⋅ρ₁ - Sᵢ⋅T₃⋅U₁⋅cₚ⋅ρ₁) \n",
       "──────────────────────────────────────────────────────────\n",
       " - Sᵢ⋅T₃⋅cₚ + Sᵢ⋅T_f⋅cₚ)                                  "
      ]
     },
     "metadata": {},
     "output_type": "display_data"
    },
    {
     "name": "stdout",
     "output_type": "stream",
     "text": [
      " \n",
      "Q formula in U_2=0\n"
     ]
    },
    {
     "data": {
      "image/png": "[encoded data removed]",
      "text/latex": [
       "$\\displaystyle Q_{m} = \\frac{- F L S_{3} - F S_{i} T_{3} c_{p} - L S_{1} U_{1} \\rho_{1} + L S_{3} U_{1} \\rho_{1} - S_{1} T_{3} U_{1} c_{p} \\rho_{1} + S_{3} T_{1} U_{1} c_{p} \\rho_{1} - S_{i} T_{1} U_{1} c_{p} \\rho_{1} + S_{i} T_{3} U_{1} c_{p} \\rho_{1}}{S_{3} - S_{i}}$"
      ],
      "text/plain": [
       "     -F⋅L⋅S₃ - F⋅Sᵢ⋅T₃⋅cₚ - L⋅S₁⋅U₁⋅ρ₁ + L⋅S₃⋅U₁⋅ρ₁ - S₁⋅T₃⋅U₁⋅cₚ⋅ρ₁ + S₃⋅T₁⋅U\n",
       "Qₘ = ─────────────────────────────────────────────────────────────────────────\n",
       "                                                          S₃ - Sᵢ             \n",
       "\n",
       "₁⋅cₚ⋅ρ₁ - Sᵢ⋅T₁⋅U₁⋅cₚ⋅ρ₁ + Sᵢ⋅T₃⋅U₁⋅cₚ⋅ρ₁\n",
       "─────────────────────────────────────────\n",
       "                                         "
      ]
     },
     "metadata": {},
     "output_type": "display_data"
    },
    {
     "name": "stdout",
     "output_type": "stream",
     "text": [
      " \n",
      "T3 formula in U_2=0\n"
     ]
    },
    {
     "data": {
      "image/png": "[encoded data removed]",
      "text/latex": [
       "$\\displaystyle T_{3} = \\frac{- L S_{1} U_{1} \\rho_{1} + Q S_{i} + S_{3} \\left(- F L + L U_{1} \\rho_{1} - Q + T_{1} U_{1} c_{p} \\rho_{1}\\right) - S_{i} T_{1} U_{1} c_{p} \\rho_{1}}{c_{p} \\left(F S_{i} + S_{1} U_{1} \\rho_{1} - S_{i} U_{1} \\rho_{1}\\right)}$"
      ],
      "text/plain": [
       "     -L⋅S₁⋅U₁⋅ρ₁ + Q⋅Sᵢ + S₃⋅(-F⋅L + L⋅U₁⋅ρ₁ - Q + T₁⋅U₁⋅cₚ⋅ρ₁) - Sᵢ⋅T₁⋅U₁⋅cₚ⋅\n",
       "T₃ = ─────────────────────────────────────────────────────────────────────────\n",
       "                           cₚ⋅(F⋅Sᵢ + S₁⋅U₁⋅ρ₁ - Sᵢ⋅U₁⋅ρ₁)                    \n",
       "\n",
       "ρ₁\n",
       "──\n",
       "  "
      ]
     },
     "metadata": {},
     "output_type": "display_data"
    },
    {
     "name": "stdout",
     "output_type": "stream",
     "text": [
      " \n",
      "T3 formula in U_2=0 intercepts T_f at S*\n"
     ]
    },
    {
     "data": {
      "image/png": "[encoded data removed]",
      "text/latex": [
       "$\\displaystyle Sstar = \\frac{- F S_{i} T_{f} c_{p} - L S_{1} U_{1} \\rho_{1} + Q S_{i} - S_{1} T_{f} U_{1} c_{p} \\rho_{1} - S_{i} T_{1} U_{1} c_{p} \\rho_{1} + S_{i} T_{f} U_{1} c_{p} \\rho_{1}}{F L - L U_{1} \\rho_{1} + Q - T_{1} U_{1} c_{p} \\rho_{1}}$"
      ],
      "text/plain": [
       "        -F⋅Sᵢ⋅T_f⋅cₚ - L⋅S₁⋅U₁⋅ρ₁ + Q⋅Sᵢ - S₁⋅T_f⋅U₁⋅cₚ⋅ρ₁ - Sᵢ⋅T₁⋅U₁⋅cₚ⋅ρ₁ + \n",
       "Sstar = ──────────────────────────────────────────────────────────────────────\n",
       "                                   F⋅L - L⋅U₁⋅ρ₁ + Q - T₁⋅U₁⋅cₚ⋅ρ₁            \n",
       "\n",
       "Sᵢ⋅T_f⋅U₁⋅cₚ⋅ρ₁\n",
       "───────────────\n",
       "               "
      ]
     },
     "metadata": {},
     "output_type": "display_data"
    },
    {
     "name": "stdout",
     "output_type": "stream",
     "text": [
      " \n",
      "T3 formula in U_2=-X (e.g., X = U_1)\n"
     ]
    },
    {
     "data": {
      "image/png": "[encoded data removed]",
      "text/latex": [
       "$\\displaystyle T_{3} = \\frac{- L S_{1} U_{1} \\rho_{1} + L S_{2} X \\rho_{2} + Q S_{i} + S_{3} \\left(- F L + L U_{1} \\rho_{1} - L X \\rho_{2} - Q + T_{1} U_{1} c_{p} \\rho_{1} - T_{f} X c_{p} \\rho_{2}\\right) - S_{i} T_{1} U_{1} c_{p} \\rho_{1} + S_{i} T_{f} X c_{p} \\rho_{2}}{c_{p} \\left(F S_{i} + S_{1} U_{1} \\rho_{1} - S_{2} X \\rho_{2} - S_{i} U_{1} \\rho_{1} + S_{i} X \\rho_{2}\\right)}$"
      ],
      "text/plain": [
       "     -L⋅S₁⋅U₁⋅ρ₁ + L⋅S₂⋅X⋅ρ₂ + Q⋅Sᵢ + S₃⋅(-F⋅L + L⋅U₁⋅ρ₁ - L⋅X⋅ρ₂ - Q + T₁⋅U₁⋅\n",
       "T₃ = ─────────────────────────────────────────────────────────────────────────\n",
       "                                           cₚ⋅(F⋅Sᵢ + S₁⋅U₁⋅ρ₁ - S₂⋅X⋅ρ₂ - Sᵢ⋅\n",
       "\n",
       "cₚ⋅ρ₁ - T_f⋅X⋅cₚ⋅ρ₂) - Sᵢ⋅T₁⋅U₁⋅cₚ⋅ρ₁ + Sᵢ⋅T_f⋅X⋅cₚ⋅ρ₂\n",
       "──────────────────────────────────────────────────────\n",
       "U₁⋅ρ₁ + Sᵢ⋅X⋅ρ₂)                                      "
      ]
     },
     "metadata": {},
     "output_type": "display_data"
    },
    {
     "name": "stdout",
     "output_type": "stream",
     "text": [
      " \n",
      "------------------------------------------------------------------------------------------------------------\n",
      " \n",
      "Formula for U_3:\n"
     ]
    },
    {
     "data": {
      "image/png": "[encoded data removed]",
      "text/latex": [
       "$\\displaystyle U_{3} = \\frac{F L S_{2} + F S_{i} T_{f} c_{p} + L S_{1} U_{1} \\rho_{1} - L S_{2} U_{1} \\rho_{1} + Q S_{2} - Q S_{i} + S_{1} T_{f} U_{1} c_{p} \\rho_{1} - S_{2} T_{1} U_{1} c_{p} \\rho_{1} + S_{i} T_{1} U_{1} c_{p} \\rho_{1} - S_{i} T_{f} U_{1} c_{p} \\rho_{1}}{\\rho_{3} \\left(L S_{2} - L S_{3} + S_{2} T_{3} c_{p} - S_{3} T_{f} c_{p} - S_{i} T_{3} c_{p} + S_{i} T_{f} c_{p}\\right)}$"
      ],
      "text/plain": [
       "     F⋅L⋅S₂ + F⋅Sᵢ⋅T_f⋅cₚ + L⋅S₁⋅U₁⋅ρ₁ - L⋅S₂⋅U₁⋅ρ₁ + Q⋅S₂ - Q⋅Sᵢ + S₁⋅T_f⋅U₁⋅\n",
       "U₃ = ─────────────────────────────────────────────────────────────────────────\n",
       "                                       ρ₃⋅(L⋅S₂ - L⋅S₃ + S₂⋅T₃⋅cₚ - S₃⋅T_f⋅cₚ \n",
       "\n",
       "cₚ⋅ρ₁ - S₂⋅T₁⋅U₁⋅cₚ⋅ρ₁ + Sᵢ⋅T₁⋅U₁⋅cₚ⋅ρ₁ - Sᵢ⋅T_f⋅U₁⋅cₚ⋅ρ₁\n",
       "─────────────────────────────────────────────────────────\n",
       "- Sᵢ⋅T₃⋅cₚ + Sᵢ⋅T_f⋅cₚ)                                  "
      ]
     },
     "metadata": {},
     "output_type": "display_data"
    },
    {
     "name": "stdout",
     "output_type": "stream",
     "text": [
      " \n",
      "Q formula for U_3=0\n"
     ]
    },
    {
     "data": {
      "image/png": "[encoded data removed]",
      "text/latex": [
       "$\\displaystyle Q_{p} = \\frac{- F L S_{2} - F S_{i} T_{f} c_{p} - L S_{1} U_{1} \\rho_{1} + L S_{2} U_{1} \\rho_{1} - S_{1} T_{f} U_{1} c_{p} \\rho_{1} + S_{2} T_{1} U_{1} c_{p} \\rho_{1} - S_{i} T_{1} U_{1} c_{p} \\rho_{1} + S_{i} T_{f} U_{1} c_{p} \\rho_{1}}{S_{2} - S_{i}}$"
      ],
      "text/plain": [
       "     -F⋅L⋅S₂ - F⋅Sᵢ⋅T_f⋅cₚ - L⋅S₁⋅U₁⋅ρ₁ + L⋅S₂⋅U₁⋅ρ₁ - S₁⋅T_f⋅U₁⋅cₚ⋅ρ₁ + S₂⋅T₁\n",
       "Qₚ = ─────────────────────────────────────────────────────────────────────────\n",
       "                                                            S₂ - Sᵢ           \n",
       "\n",
       "⋅U₁⋅cₚ⋅ρ₁ - Sᵢ⋅T₁⋅U₁⋅cₚ⋅ρ₁ + Sᵢ⋅T_f⋅U₁⋅cₚ⋅ρ₁\n",
       "────────────────────────────────────────────\n",
       "                                            "
      ]
     },
     "metadata": {},
     "output_type": "display_data"
    },
    {
     "name": "stdout",
     "output_type": "stream",
     "text": [
      " \n",
      "S_2 formula for U_3=0\n"
     ]
    },
    {
     "data": {
      "image/png": "[encoded data removed]",
      "text/latex": [
       "$\\displaystyle S_{2} = \\frac{- F S_{i} T_{f} c_{p} - L S_{1} U_{1} \\rho_{1} + Q S_{i} - S_{1} T_{f} U_{1} c_{p} \\rho_{1} - S_{i} T_{1} U_{1} c_{p} \\rho_{1} + S_{i} T_{f} U_{1} c_{p} \\rho_{1}}{F L - L U_{1} \\rho_{1} + Q - T_{1} U_{1} c_{p} \\rho_{1}}$"
      ],
      "text/plain": [
       "     -F⋅Sᵢ⋅T_f⋅cₚ - L⋅S₁⋅U₁⋅ρ₁ + Q⋅Sᵢ - S₁⋅T_f⋅U₁⋅cₚ⋅ρ₁ - Sᵢ⋅T₁⋅U₁⋅cₚ⋅ρ₁ + Sᵢ⋅\n",
       "S₂ = ─────────────────────────────────────────────────────────────────────────\n",
       "                                F⋅L - L⋅U₁⋅ρ₁ + Q - T₁⋅U₁⋅cₚ⋅ρ₁               \n",
       "\n",
       "T_f⋅U₁⋅cₚ⋅ρ₁\n",
       "────────────\n",
       "            "
      ]
     },
     "metadata": {},
     "output_type": "display_data"
    },
    {
     "name": "stdout",
     "output_type": "stream",
     "text": [
      " \n",
      "S_2 - Sstar formula (checks proposition above)\n"
     ]
    },
    {
     "data": {
      "image/png": "[encoded data removed]",
      "text/latex": [
       "$\\displaystyle S_{2} - Sstar = 0$"
      ],
      "text/plain": [
       "S₂ - Sstar = 0"
      ]
     },
     "metadata": {},
     "output_type": "display_data"
    },
    {
     "name": "stdout",
     "output_type": "stream",
     "text": [
      " \n",
      "T3 formula in U_3=0: Doesn't exist because numerator doesn't depend on T_3\n",
      " \n",
      "T3 formula in U_3=-X (e.g., X = U_1)\n"
     ]
    },
    {
     "data": {
      "image/png": "[encoded data removed]",
      "text/latex": [
       "$\\displaystyle T_{3} = \\frac{- F L S_{2} - F S_{i} T_{f} c_{p} - L S_{1} U_{1} \\rho_{1} + L S_{2} U_{1} \\rho_{1} - L S_{2} X \\rho_{3} - Q S_{2} + Q S_{i} - S_{1} T_{f} U_{1} c_{p} \\rho_{1} + S_{2} T_{1} U_{1} c_{p} \\rho_{1} + S_{3} \\left(L X \\rho_{3} + T_{f} X c_{p} \\rho_{3}\\right) - S_{i} T_{1} U_{1} c_{p} \\rho_{1} + S_{i} T_{f} U_{1} c_{p} \\rho_{1} - S_{i} T_{f} X c_{p} \\rho_{3}}{X c_{p} \\rho_{3} \\left(S_{2} - S_{i}\\right)}$"
      ],
      "text/plain": [
       "     -F⋅L⋅S₂ - F⋅Sᵢ⋅T_f⋅cₚ - L⋅S₁⋅U₁⋅ρ₁ + L⋅S₂⋅U₁⋅ρ₁ - L⋅S₂⋅X⋅ρ₃ - Q⋅S₂ + Q⋅Sᵢ\n",
       "T₃ = ─────────────────────────────────────────────────────────────────────────\n",
       "                                                                              \n",
       "\n",
       " - S₁⋅T_f⋅U₁⋅cₚ⋅ρ₁ + S₂⋅T₁⋅U₁⋅cₚ⋅ρ₁ + S₃⋅(L⋅X⋅ρ₃ + T_f⋅X⋅cₚ⋅ρ₃) - Sᵢ⋅T₁⋅U₁⋅cₚ⋅\n",
       "──────────────────────────────────────────────────────────────────────────────\n",
       "            X⋅cₚ⋅ρ₃⋅(S₂ - Sᵢ)                                                 \n",
       "\n",
       "ρ₁ + Sᵢ⋅T_f⋅U₁⋅cₚ⋅ρ₁ - Sᵢ⋅T_f⋅X⋅cₚ⋅ρ₃\n",
       "─────────────────────────────────────\n",
       "                                     "
      ]
     },
     "metadata": {},
     "output_type": "display_data"
    },
    {
     "name": "stdout",
     "output_type": "stream",
     "text": [
      " \n",
      "------------------------------------------------------------------------------------------------------------\n",
      " \n",
      "Formula for U_i:\n"
     ]
    },
    {
     "data": {
      "image/png": "[encoded data removed]",
      "text/latex": [
       "$\\displaystyle U_{i} = \\frac{F S_{2} T_{3} c_{p} - F S_{3} T_{f} c_{p} - Q S_{2} + Q S_{3} + S_{1} T_{3} U_{1} c_{p} \\rho_{1} - S_{1} T_{f} U_{1} c_{p} \\rho_{1} + S_{2} T_{1} U_{1} c_{p} \\rho_{1} - S_{2} T_{3} U_{1} c_{p} \\rho_{1} - S_{3} T_{1} U_{1} c_{p} \\rho_{1} + S_{3} T_{f} U_{1} c_{p} \\rho_{1}}{\\rho_{i} \\left(L S_{2} - L S_{3} + S_{2} T_{3} c_{p} - S_{3} T_{f} c_{p} - S_{i} T_{3} c_{p} + S_{i} T_{f} c_{p}\\right)}$"
      ],
      "text/plain": [
       "     F⋅S₂⋅T₃⋅cₚ - F⋅S₃⋅T_f⋅cₚ - Q⋅S₂ + Q⋅S₃ + S₁⋅T₃⋅U₁⋅cₚ⋅ρ₁ - S₁⋅T_f⋅U₁⋅cₚ⋅ρ₁\n",
       "Uᵢ = ─────────────────────────────────────────────────────────────────────────\n",
       "                                             ρᵢ⋅(L⋅S₂ - L⋅S₃ + S₂⋅T₃⋅cₚ - S₃⋅T\n",
       "\n",
       " + S₂⋅T₁⋅U₁⋅cₚ⋅ρ₁ - S₂⋅T₃⋅U₁⋅cₚ⋅ρ₁ - S₃⋅T₁⋅U₁⋅cₚ⋅ρ₁ + S₃⋅T_f⋅U₁⋅cₚ⋅ρ₁\n",
       "─────────────────────────────────────────────────────────────────────\n",
       "_f⋅cₚ - Sᵢ⋅T₃⋅cₚ + Sᵢ⋅T_f⋅cₚ)                                        "
      ]
     },
     "metadata": {},
     "output_type": "display_data"
    },
    {
     "name": "stdout",
     "output_type": "stream",
     "text": [
      " \n",
      "Q formula for U_i=0\n"
     ]
    },
    {
     "data": {
      "image/png": "[encoded data removed]",
      "text/latex": [
       "$\\displaystyle Q_{i} = \\frac{c_{p} \\left(F S_{2} T_{3} - F S_{3} T_{f} + S_{1} T_{3} U_{1} \\rho_{1} - S_{1} T_{f} U_{1} \\rho_{1} + S_{2} T_{1} U_{1} \\rho_{1} - S_{2} T_{3} U_{1} \\rho_{1} - S_{3} T_{1} U_{1} \\rho_{1} + S_{3} T_{f} U_{1} \\rho_{1}\\right)}{S_{2} - S_{3}}$"
      ],
      "text/plain": [
       "     cₚ⋅(F⋅S₂⋅T₃ - F⋅S₃⋅T_f + S₁⋅T₃⋅U₁⋅ρ₁ - S₁⋅T_f⋅U₁⋅ρ₁ + S₂⋅T₁⋅U₁⋅ρ₁ - S₂⋅T₃\n",
       "Qᵢ = ─────────────────────────────────────────────────────────────────────────\n",
       "                                                        S₂ - S₃               \n",
       "\n",
       "⋅U₁⋅ρ₁ - S₃⋅T₁⋅U₁⋅ρ₁ + S₃⋅T_f⋅U₁⋅ρ₁)\n",
       "────────────────────────────────────\n",
       "                                    "
      ]
     },
     "metadata": {},
     "output_type": "display_data"
    },
    {
     "name": "stdout",
     "output_type": "stream",
     "text": [
      " \n",
      "T3 formula in U_i=0\n"
     ]
    },
    {
     "data": {
      "image/png": "[encoded data removed]",
      "text/latex": [
       "$\\displaystyle T_{3} = \\frac{Q S_{2} + S_{1} T_{f} U_{1} c_{p} \\rho_{1} - S_{2} T_{1} U_{1} c_{p} \\rho_{1} + S_{3} \\left(F T_{f} c_{p} - Q + T_{1} U_{1} c_{p} \\rho_{1} - T_{f} U_{1} c_{p} \\rho_{1}\\right)}{c_{p} \\left(F S_{2} + S_{1} U_{1} \\rho_{1} - S_{2} U_{1} \\rho_{1}\\right)}$"
      ],
      "text/plain": [
       "     Q⋅S₂ + S₁⋅T_f⋅U₁⋅cₚ⋅ρ₁ - S₂⋅T₁⋅U₁⋅cₚ⋅ρ₁ + S₃⋅(F⋅T_f⋅cₚ - Q + T₁⋅U₁⋅cₚ⋅ρ₁ \n",
       "T₃ = ─────────────────────────────────────────────────────────────────────────\n",
       "                                 cₚ⋅(F⋅S₂ + S₁⋅U₁⋅ρ₁ - S₂⋅U₁⋅ρ₁)              \n",
       "\n",
       "- T_f⋅U₁⋅cₚ⋅ρ₁)\n",
       "───────────────\n",
       "               "
      ]
     },
     "metadata": {},
     "output_type": "display_data"
    },
    {
     "name": "stdout",
     "output_type": "stream",
     "text": [
      " \n",
      "T3 formula in U_i=-X (e.g., X = U_1)\n"
     ]
    },
    {
     "data": {
      "image/png": "[encoded data removed]",
      "text/latex": [
       "$\\displaystyle T_{3} = \\frac{- L S_{2} X \\rho_{i} + Q S_{2} + S_{1} T_{f} U_{1} c_{p} \\rho_{1} - S_{2} T_{1} U_{1} c_{p} \\rho_{1} + S_{3} \\left(F T_{f} c_{p} + L X \\rho_{i} - Q + T_{1} U_{1} c_{p} \\rho_{1} - T_{f} U_{1} c_{p} \\rho_{1} + T_{f} X c_{p} \\rho_{i}\\right) - S_{i} T_{f} X c_{p} \\rho_{i}}{c_{p} \\left(F S_{2} + S_{1} U_{1} \\rho_{1} - S_{2} U_{1} \\rho_{1} + S_{2} X \\rho_{i} - S_{i} X \\rho_{i}\\right)}$"
      ],
      "text/plain": [
       "     -L⋅S₂⋅X⋅ρᵢ + Q⋅S₂ + S₁⋅T_f⋅U₁⋅cₚ⋅ρ₁ - S₂⋅T₁⋅U₁⋅cₚ⋅ρ₁ + S₃⋅(F⋅T_f⋅cₚ + L⋅X\n",
       "T₃ = ─────────────────────────────────────────────────────────────────────────\n",
       "                                                  cₚ⋅(F⋅S₂ + S₁⋅U₁⋅ρ₁ - S₂⋅U₁⋅\n",
       "\n",
       "⋅ρᵢ - Q + T₁⋅U₁⋅cₚ⋅ρ₁ - T_f⋅U₁⋅cₚ⋅ρ₁ + T_f⋅X⋅cₚ⋅ρᵢ) - Sᵢ⋅T_f⋅X⋅cₚ⋅ρᵢ\n",
       "────────────────────────────────────────────────────────────────────\n",
       "ρ₁ + S₂⋅X⋅ρᵢ - Sᵢ⋅X⋅ρᵢ)                                             "
      ]
     },
     "metadata": {},
     "output_type": "display_data"
    }
   ],
   "source": [
    "E = Matrix([[rho_2, rho_3, rho_i],[rho_2*S_2, rho_3*S_3, rho_i*S_i],[c_p*rho_2*T_f, c_p*rho_3*T_3, -rho_i*L]])\n",
    "print(\"Matrix E:\")\n",
    "display(E)\n",
    "Einv = simplify(MatrixBase.inverse_LU(E))\n",
    "\n",
    "print(\" \")\n",
    "print(\"E inverse:\")\n",
    "display(Einv)\n",
    "\n",
    "print(\" \")\n",
    "print(\"E determinant:\")\n",
    "Edet = simplify(MatrixBase.det(E))\n",
    "display(Edet)\n",
    "\n",
    "print(\" \")\n",
    "print(\"T3 formula for determinant=0:\")\n",
    "T3_formula = solve(Eq(0,Edet),T_3)\n",
    "T3_formula = Eq(T_3,collect(T3_formula[0],S_3))\n",
    "display(T3_formula)\n",
    "\n",
    "print(\" \")\n",
    "print(\"Right hand side:\")\n",
    "rhs = Matrix([ [F - rho_1*U_1],  [- rho_1*U_1*S_1], [Q - c_p*rho_1*U_1*T_1]])\n",
    "display(rhs)\n",
    "\n",
    "print(\" \")\n",
    "print(\"------------------------------------------------------------------------------------------------------------\")\n",
    "print(\" \")\n",
    "print(\"Formula for U_2:\")\n",
    "soln = Einv*rhs\n",
    "myeqn = factor(simplify(Eq(U_2,soln[0])))\n",
    "display(myeqn)\n",
    "\n",
    "print(\" \")\n",
    "print(\"Q formula in U_2=0\")\n",
    "myeqn = factor(simplify(Eq(0,soln[0])))\n",
    "Qm_formula = solve(myeqn,Q)\n",
    "Qm_formula = simplify(Qm_formula[0])\n",
    "Qm_formula = Eq(Q_m,Qm_formula)\n",
    "display(Qm_formula)\n",
    "\n",
    "print(\" \")\n",
    "print(\"T3 formula in U_2=0\")\n",
    "myeqn = solve(myeqn,T_3)\n",
    "T3_formula = Eq(T_3,collect(myeqn[0],S_3))\n",
    "display(T3_formula)\n",
    "\n",
    "print(\" \")\n",
    "print(\"T3 formula in U_2=0 intercepts T_f at S*\")\n",
    "myeqn = T3_formula.subs(T_3,T_f)\n",
    "Sstar_formula = solve(myeqn,S_3)\n",
    "Sstar_formula = Eq(Sstar,Sstar_formula[0])\n",
    "display(Sstar_formula)\n",
    "\n",
    "print(\" \")\n",
    "print(\"T3 formula in U_2=-X (e.g., X = U_1)\")\n",
    "myeqn = factor(simplify(Eq(-X,soln[0])))\n",
    "myeqn = solve(myeqn,T_3)\n",
    "T3_formula = Eq(T_3,collect(myeqn[0],S_3))\n",
    "display(T3_formula)\n",
    "\n",
    "print(\" \")\n",
    "print(\"------------------------------------------------------------------------------------------------------------\")\n",
    "print(\" \")\n",
    "print(\"Formula for U_3:\")\n",
    "myeqn = factor(simplify(Eq(U_3,soln[1])))\n",
    "display(myeqn)\n",
    "\n",
    "print(\" \")\n",
    "print(\"Q formula for U_3=0\")\n",
    "myeqn = factor(simplify(Eq(0,soln[1])))\n",
    "Qp_formula = solve(myeqn,Q)\n",
    "Qp_formula = simplify(Qp_formula[0])\n",
    "Qp_formula = Eq(Q_p,Qp_formula)\n",
    "display(Qp_formula)\n",
    "\n",
    "print(\" \")\n",
    "print(\"S_2 formula for U_3=0\")\n",
    "S2_formula = solve(myeqn,S_2)\n",
    "S2_formula = simplify(S2_formula[0])\n",
    "S2_formula = Eq(S_2,S2_formula)\n",
    "display(S2_formula)\n",
    "\n",
    "print(\" \")\n",
    "print(\"S_2 - Sstar formula (checks proposition above)\")\n",
    "S2mSstar_formula = simplify(S2_formula.rhs-Sstar_formula.rhs)\n",
    "S2mSstar_formula = Eq(S_2-Sstar,S2mSstar_formula)\n",
    "display(S2mSstar_formula)\n",
    "\n",
    "print(\" \")\n",
    "print(\"T3 formula in U_3=0: Doesn't exist because numerator doesn't depend on T_3\")\n",
    "\n",
    "print(\" \")\n",
    "print(\"T3 formula in U_3=-X (e.g., X = U_1)\")\n",
    "myeqn = factor(simplify(Eq(-X,soln[1])))\n",
    "myeqn = solve(myeqn,T_3)\n",
    "T3_formula = Eq(T_3,collect(myeqn[0],S_3))\n",
    "display(T3_formula)\n",
    "\n",
    "print(\" \")\n",
    "print(\"------------------------------------------------------------------------------------------------------------\")\n",
    "print(\" \")\n",
    "print(\"Formula for U_i:\")\n",
    "myeqn = factor(simplify(Eq(U_i,soln[2])))\n",
    "display(myeqn)\n",
    "\n",
    "print(\" \")\n",
    "print(\"Q formula for U_i=0\")\n",
    "myeqn = factor(simplify(Eq(0,soln[2])))\n",
    "Qi_formula = solve(myeqn,Q)\n",
    "Qi_formula = simplify(Qi_formula[0])\n",
    "Qi_formula = Eq(Q_i,Qi_formula)\n",
    "display(Qi_formula)\n",
    "\n",
    "print(\" \")\n",
    "print(\"T3 formula in U_i=0\")\n",
    "myeqn = solve(myeqn,T_3)\n",
    "T3_formula = collect(myeqn[0],S_3)\n",
    "T3_formula = Eq(T_3,T3_formula)\n",
    "display(T3_formula)\n",
    "\n",
    "print(\" \")\n",
    "print(\"T3 formula in U_i=-X (e.g., X = U_1)\")\n",
    "myeqn = factor(simplify(Eq(-X,soln[2])))\n",
    "myeqn = solve(myeqn,T_3)\n",
    "T3_formula = Eq(T_3,collect(myeqn[0],S_3))\n",
    "display(T3_formula)"
   ]
  },
  {
   "cell_type": "code",
   "execution_count": 4,
   "metadata": {},
   "outputs": [
    {
     "name": "stdout",
     "output_type": "stream",
     "text": [
      " \n",
      "T3 formula in U_i=0 for S_3 = S_2\n"
     ]
    },
    {
     "data": {
      "image/png": "[encoded data removed]",
      "text/latex": [
       "$\\displaystyle T_{3} = T_{f}$"
      ],
      "text/plain": [
       "T₃ = T_f"
      ]
     },
     "metadata": {},
     "output_type": "display_data"
    }
   ],
   "source": [
    "print(\" \")\n",
    "print(\"T3 formula in U_i=0 for S_3 = S_2\")\n",
    "T3_formula = simplify(T3_formula.subs(S_3,S_2))\n",
    "display(T3_formula)"
   ]
  },
  {
   "cell_type": "code",
   "execution_count": 5,
   "metadata": {},
   "outputs": [
    {
     "name": "stdout",
     "output_type": "stream",
     "text": [
      "Approximate matrix E2:\n"
     ]
    },
    {
     "data": {
      "text/latex": [
       "$\\displaystyle \\left[\\begin{matrix}1 & 1 & 1\\\\S_{2} & S_{3} & 0\\\\0 & 0 & - L\\end{matrix}\\right]$"
      ],
      "text/plain": [
       "⎡1   1   1 ⎤\n",
       "⎢          ⎥\n",
       "⎢S₂  S₃  0 ⎥\n",
       "⎢          ⎥\n",
       "⎣0   0   -L⎦"
      ]
     },
     "metadata": {},
     "output_type": "display_data"
    },
    {
     "name": "stdout",
     "output_type": "stream",
     "text": [
      " \n",
      "Approximate inverse matrix E2:\n"
     ]
    },
    {
     "data": {
      "text/latex": [
       "$\\displaystyle \\left[\\begin{matrix}- \\frac{S_{3}}{S_{2} - S_{3}} & \\frac{1}{S_{2} - S_{3}} & - \\frac{S_{3}}{L \\left(S_{2} - S_{3}\\right)}\\\\\\frac{S_{2}}{S_{2} - S_{3}} & - \\frac{1}{S_{2} - S_{3}} & \\frac{S_{2}}{L \\left(S_{2} - S_{3}\\right)}\\\\0 & 0 & - \\frac{1}{L}\\end{matrix}\\right]$"
      ],
      "text/plain": [
       "⎡  -S₃       1         -S₃    ⎤\n",
       "⎢───────  ───────  ───────────⎥\n",
       "⎢S₂ - S₃  S₂ - S₃  L⋅(S₂ - S₃)⎥\n",
       "⎢                             ⎥\n",
       "⎢   S₂      -1          S₂    ⎥\n",
       "⎢───────  ───────  ───────────⎥\n",
       "⎢S₂ - S₃  S₂ - S₃  L⋅(S₂ - S₃)⎥\n",
       "⎢                             ⎥\n",
       "⎢                      -1     ⎥\n",
       "⎢   0        0         ───    ⎥\n",
       "⎣                       L     ⎦"
      ]
     },
     "metadata": {},
     "output_type": "display_data"
    },
    {
     "name": "stdout",
     "output_type": "stream",
     "text": [
      " \n",
      "Approximate right hand side:\n"
     ]
    },
    {
     "data": {
      "text/latex": [
       "$\\displaystyle \\left[\\begin{matrix}\\frac{F}{\\rho_{0}} - U_{1}\\\\- S_{1} U_{1}\\\\\\frac{Q}{\\rho_{0}} - T_{1} U_{1} c_{p}\\end{matrix}\\right]$"
      ],
      "text/plain": [
       "⎡   F         ⎤\n",
       "⎢   ── - U₁   ⎥\n",
       "⎢   ρ₀        ⎥\n",
       "⎢             ⎥\n",
       "⎢   -S₁⋅U₁    ⎥\n",
       "⎢             ⎥\n",
       "⎢Q            ⎥\n",
       "⎢── - T₁⋅U₁⋅cₚ⎥\n",
       "⎣ρ₀           ⎦"
      ]
     },
     "metadata": {},
     "output_type": "display_data"
    },
    {
     "name": "stdout",
     "output_type": "stream",
     "text": [
      " \n",
      "Approximate formula for U_2:\n"
     ]
    },
    {
     "data": {
      "image/png": "[encoded data removed]",
      "text/latex": [
       "$\\displaystyle U_{2} = - \\frac{L S_{1} U_{1} \\rho_{0} + L S_{3} \\left(F - U_{1} \\rho_{0}\\right) + S_{3} \\left(Q - T_{1} U_{1} c_{p} \\rho_{0}\\right)}{L \\rho_{0} \\left(S_{2} - S_{3}\\right)}$"
      ],
      "text/plain": [
       "     -(L⋅S₁⋅U₁⋅ρ₀ + L⋅S₃⋅(F - U₁⋅ρ₀) + S₃⋅(Q - T₁⋅U₁⋅cₚ⋅ρ₀)) \n",
       "U₂ = ────────────────────────────────────────────────────────\n",
       "                          L⋅ρ₀⋅(S₂ - S₃)                     "
      ]
     },
     "metadata": {},
     "output_type": "display_data"
    },
    {
     "name": "stdout",
     "output_type": "stream",
     "text": [
      " \n",
      "Approximate Q formula in U_2:\n"
     ]
    },
    {
     "data": {
      "image/png": "[encoded data removed]",
      "text/latex": [
       "$\\displaystyle \\left[ \\frac{- L S_{1} U_{1} \\rho_{0} - L S_{2} U_{2} \\rho_{0} + S_{3} \\left(- F L + L U_{1} \\rho_{0} + L U_{2} \\rho_{0} + T_{1} U_{1} c_{p} \\rho_{0}\\right)}{S_{3}}\\right]$"
      ],
      "text/plain": [
       "⎡-L⋅S₁⋅U₁⋅ρ₀ - L⋅S₂⋅U₂⋅ρ₀ + S₃⋅(-F⋅L + L⋅U₁⋅ρ₀ + L⋅U₂⋅ρ₀ + T₁⋅U₁⋅cₚ⋅ρ₀)⎤\n",
       "⎢──────────────────────────────────────────────────────────────────────⎥\n",
       "⎣                                  S₃                                  ⎦"
      ]
     },
     "metadata": {},
     "output_type": "display_data"
    },
    {
     "name": "stdout",
     "output_type": "stream",
     "text": [
      " \n",
      "Approximate U_1 formula in U_2:\n"
     ]
    },
    {
     "data": {
      "image/png": "[encoded data removed]",
      "text/latex": [
       "$\\displaystyle \\left[ \\frac{F L S_{3} + L S_{2} U_{2} \\rho_{0} - L S_{3} U_{2} \\rho_{0} + Q S_{3}}{\\rho_{0} \\left(- L S_{1} + L S_{3} + S_{3} T_{1} c_{p}\\right)}\\right]$"
      ],
      "text/plain": [
       "⎡F⋅L⋅S₃ + L⋅S₂⋅U₂⋅ρ₀ - L⋅S₃⋅U₂⋅ρ₀ + Q⋅S₃⎤\n",
       "⎢───────────────────────────────────────⎥\n",
       "⎣      ρ₀⋅(-L⋅S₁ + L⋅S₃ + S₃⋅T₁⋅cₚ)     ⎦"
      ]
     },
     "metadata": {},
     "output_type": "display_data"
    }
   ],
   "source": [
    "# Approximate solution for U_1 when U_2=0\n",
    "# Set all densities the same and divide them out.\n",
    "# Set Tf = S_i = 0\n",
    "print(\"Approximate matrix E2:\")\n",
    "E2 = Matrix([[ 1, 1, 1],[S_2, S_3, 0],[0, 0, -L]])\n",
    "display(E2)\n",
    "\n",
    "print(\" \")\n",
    "print(\"Approximate inverse matrix E2:\")\n",
    "E2inv = simplify(MatrixBase.inverse_LU(E2))\n",
    "display(E2inv)\n",
    "\n",
    "print(\" \")\n",
    "print(\"Approximate right hand side:\")\n",
    "rhs2 = Matrix([ [F/rho_0 - U_1],  [- U_1*S_1], [Q/rho_0 - c_p*U_1*T_1]])\n",
    "display(rhs2)\n",
    "\n",
    "print(\" \")\n",
    "print(\"Approximate formula for U_2:\")\n",
    "soln2 = E2inv*rhs2\n",
    "myeqn2 = simplify(Eq(U_2,soln2[0]))\n",
    "display(myeqn2)\n",
    "\n",
    "print(\" \")\n",
    "print(\"Approximate Q formula in U_2:\")\n",
    "Q_formula2 = solve(myeqn2,Q)\n",
    "display(Q_formula2)\n",
    "\n",
    "print(\" \")\n",
    "print(\"Approximate U_1 formula in U_2:\")\n",
    "U1_formula2 = solve(myeqn2,U_1)\n",
    "display(U1_formula2)"
   ]
  },
  {
   "cell_type": "code",
   "execution_count": 6,
   "metadata": {},
   "outputs": [
    {
     "name": "stdout",
     "output_type": "stream",
     "text": [
      "Approximate solution should give identical results to before:\n",
      "Approximate matrix E3:\n"
     ]
    },
    {
     "data": {
      "text/latex": [
       "$\\displaystyle \\left[\\begin{matrix}1 & 1\\\\S_{2} & S_{3}\\end{matrix}\\right]$"
      ],
      "text/plain": [
       "⎡1   1 ⎤\n",
       "⎢      ⎥\n",
       "⎣S₂  S₃⎦"
      ]
     },
     "metadata": {},
     "output_type": "display_data"
    },
    {
     "name": "stdout",
     "output_type": "stream",
     "text": [
      " \n",
      "Approximate inverse matrix E3:\n"
     ]
    },
    {
     "data": {
      "text/latex": [
       "$\\displaystyle \\left[\\begin{matrix}\\frac{S_{2}}{- S_{2} + S_{3}} + 1 & - \\frac{1}{- S_{2} + S_{3}}\\\\- \\frac{S_{2}}{- S_{2} + S_{3}} & \\frac{1}{- S_{2} + S_{3}}\\end{matrix}\\right]$"
      ],
      "text/plain": [
       "⎡   S₂           -1    ⎤\n",
       "⎢──────── + 1  ────────⎥\n",
       "⎢-S₂ + S₃      -S₂ + S₃⎥\n",
       "⎢                      ⎥\n",
       "⎢    -S₂          1    ⎥\n",
       "⎢  ────────    ────────⎥\n",
       "⎣  -S₂ + S₃    -S₂ + S₃⎦"
      ]
     },
     "metadata": {},
     "output_type": "display_data"
    },
    {
     "name": "stdout",
     "output_type": "stream",
     "text": [
      " \n",
      "Approximate right hand side:\n"
     ]
    },
    {
     "data": {
      "text/latex": [
       "$\\displaystyle \\left[\\begin{matrix}- U_{1} \\left(1 + \\frac{T_{1} c_{p}}{L}\\right) + \\frac{F L + Q}{L \\rho_{0}}\\\\- S_{1} U_{1}\\end{matrix}\\right]$"
      ],
      "text/plain": [
       "⎡     ⎛    T₁⋅cₚ⎞   F⋅L + Q⎤\n",
       "⎢- U₁⋅⎜1 + ─────⎟ + ───────⎥\n",
       "⎢     ⎝      L  ⎠     L⋅ρ₀ ⎥\n",
       "⎢                          ⎥\n",
       "⎣          -S₁⋅U₁          ⎦"
      ]
     },
     "metadata": {},
     "output_type": "display_data"
    },
    {
     "name": "stdout",
     "output_type": "stream",
     "text": [
      " \n",
      "Approximate U_2 solution:\n"
     ]
    },
    {
     "data": {
      "image/png": "[encoded data removed]",
      "text/latex": [
       "$\\displaystyle U_{2} = \\frac{- L S_{1} U_{1} \\rho_{0} + S_{3} \\left(- F L - Q + U_{1} \\rho_{0} \\left(L + T_{1} c_{p}\\right)\\right)}{L \\rho_{0} \\left(S_{2} - S_{3}\\right)}$"
      ],
      "text/plain": [
       "     -L⋅S₁⋅U₁⋅ρ₀ + S₃⋅(-F⋅L - Q + U₁⋅ρ₀⋅(L + T₁⋅cₚ))\n",
       "U₂ = ───────────────────────────────────────────────\n",
       "                      L⋅ρ₀⋅(S₂ - S₃)                "
      ]
     },
     "metadata": {},
     "output_type": "display_data"
    }
   ],
   "source": [
    "print(\"Approximate solution should give identical results to before:\")\n",
    "# Tinkering, even more.\n",
    "# Set all densities the same and divide them out.\n",
    "# Set Tf = S_i = 0\n",
    "# This means we can write the problem as a 2x2 matrix:\n",
    "E3 = Matrix([[ 1, 1],[S_2, S_3]])\n",
    "print(\"Approximate matrix E3:\")\n",
    "display(E3)\n",
    "\n",
    "print(\" \")\n",
    "print(\"Approximate inverse matrix E3:\")\n",
    "E3inv = MatrixBase.inverse_LU(E3)\n",
    "display(E3inv)\n",
    "\n",
    "print(\" \")\n",
    "print(\"Approximate right hand side:\")\n",
    "rhs3 = Matrix([ [(1/(rho_0*L))*(Q + F*L) - U_1*(1+c_p*T_1/L)],  [- U_1*S_1]])\n",
    "display(rhs3)\n",
    "\n",
    "print(\" \")\n",
    "print(\"Approximate U_2 solution:\")\n",
    "soln3 = E3inv*rhs3\n",
    "myeqn3 = Eq(U_2,soln3[0])\n",
    "display(simplify(myeqn3))"
   ]
  },
  {
   "cell_type": "code",
   "execution_count": 7,
   "metadata": {},
   "outputs": [
    {
     "name": "stdout",
     "output_type": "stream",
     "text": [
      "Shelf system matrix E4:\n"
     ]
    },
    {
     "data": {
      "text/latex": [
       "$\\displaystyle \\left[\\begin{matrix}\\rho_{1} & \\rho_{i}\\\\S_{1} \\rho_{1} & S_{i} \\rho_{i}\\\\T_{1} c_{p} \\rho_{1} & - L \\rho_{i}\\end{matrix}\\right]$"
      ],
      "text/plain": [
       "⎡   ρ₁      ρᵢ  ⎤\n",
       "⎢               ⎥\n",
       "⎢ S₁⋅ρ₁    Sᵢ⋅ρᵢ⎥\n",
       "⎢               ⎥\n",
       "⎣T₁⋅cₚ⋅ρ₁  -L⋅ρᵢ⎦"
      ]
     },
     "metadata": {},
     "output_type": "display_data"
    },
    {
     "name": "stdout",
     "output_type": "stream",
     "text": [
      " \n",
      "Column null space:\n"
     ]
    },
    {
     "data": {
      "text/latex": [
       "$\\displaystyle \\left[\\begin{matrix}\\frac{L S_{1} + S_{i} T_{1} c_{p}}{S_{1} - S_{i}}\\\\- \\frac{L + T_{1} c_{p}}{S_{1} - S_{i}}\\\\1\\end{matrix}\\right]$"
      ],
      "text/plain": [
       "⎡L⋅S₁ + Sᵢ⋅T₁⋅cₚ⎤\n",
       "⎢───────────────⎥\n",
       "⎢    S₁ - Sᵢ    ⎥\n",
       "⎢               ⎥\n",
       "⎢ -(L + T₁⋅cₚ)  ⎥\n",
       "⎢ ───────────── ⎥\n",
       "⎢    S₁ - Sᵢ    ⎥\n",
       "⎢               ⎥\n",
       "⎣       1       ⎦"
      ]
     },
     "metadata": {},
     "output_type": "display_data"
    },
    {
     "name": "stdout",
     "output_type": "stream",
     "text": [
      " \n",
      "Right hand side:\n"
     ]
    },
    {
     "data": {
      "text/latex": [
       "$\\displaystyle \\left[\\begin{matrix}F - \\rho_{s} u_{s}\\\\- S_{s} \\rho_{s} u_{s}\\\\Q - T_{f} c_{p} \\rho_{s} u_{s}\\end{matrix}\\right]$"
      ],
      "text/plain": [
       "⎡   F - ρₛ⋅uₛ    ⎤\n",
       "⎢                ⎥\n",
       "⎢   -Sₛ⋅ρₛ⋅uₛ    ⎥\n",
       "⎢                ⎥\n",
       "⎣Q - T_f⋅cₚ⋅ρₛ⋅uₛ⎦"
      ]
     },
     "metadata": {},
     "output_type": "display_data"
    },
    {
     "name": "stdout",
     "output_type": "stream",
     "text": [
      " \n",
      "Formula for F (look for Q multiplier for s_3/s_1 formula in supplement section 1):\n"
     ]
    },
    {
     "data": {
      "image/png": "[encoded data removed]",
      "text/latex": [
       "$\\displaystyle F = \\frac{L S_{1} \\rho_{s} u_{s} - L S_{s} \\rho_{s} u_{s} - Q S_{1} + Q S_{i} + S_{1} T_{f} c_{p} \\rho_{s} u_{s} + S_{i} T_{1} c_{p} \\rho_{s} u_{s} - S_{i} T_{f} c_{p} \\rho_{s} u_{s} - S_{s} T_{1} c_{p} \\rho_{s} u_{s}}{L S_{1} + S_{i} T_{1} c_{p}}$"
      ],
      "text/plain": [
       "    L⋅S₁⋅ρₛ⋅uₛ - L⋅Sₛ⋅ρₛ⋅uₛ - Q⋅S₁ + Q⋅Sᵢ + S₁⋅T_f⋅cₚ⋅ρₛ⋅uₛ + Sᵢ⋅T₁⋅cₚ⋅ρₛ⋅uₛ -\n",
       "F = ──────────────────────────────────────────────────────────────────────────\n",
       "                                                  L⋅S₁ + Sᵢ⋅T₁⋅cₚ             \n",
       "\n",
       " Sᵢ⋅T_f⋅cₚ⋅ρₛ⋅uₛ - Sₛ⋅T₁⋅cₚ⋅ρₛ⋅uₛ\n",
       "─────────────────────────────────\n",
       "                                 "
      ]
     },
     "metadata": {},
     "output_type": "display_data"
    }
   ],
   "source": [
    "# Singular vector for the shelf matrix system\n",
    "E4 = Matrix([[ rho_1, rho_i],[rho_1*S_1, rho_i*S_i],[c_p*rho_1*T_1,-rho_i*L]])\n",
    "print(\"Shelf system matrix E4:\")\n",
    "display(E4)\n",
    "\n",
    "# nullspace of E4 transpose is outside the range of E4:\n",
    "print(\" \")\n",
    "print(\"Column null space:\")\n",
    "column_null_space = E4.T.nullspace()[0]\n",
    "display(column_null_space)\n",
    "\n",
    "# Form linear relation between F and Q\n",
    "print(\" \")\n",
    "print(\"Right hand side:\")\n",
    "rhs4 = Matrix([ [F - rho_s*u_s],  [- rho_s*u_s*S_s], [Q - c_p*rho_s*u_s*T_f]])\n",
    "display(rhs4)\n",
    "print(\" \")\n",
    "print(\"Formula for F (look for Q multiplier for s_3/s_1 formula in supplement section 1):\")\n",
    "tmp = (rhs4.T)*column_null_space\n",
    "myeqn4 = Eq(tmp[0],0)\n",
    "tmp2 = solve(myeqn4,F)\n",
    "display(simplify(Eq(tmp2[0],F)))"
   ]
  }
 ],
 "metadata": {
  "kernelspec": {
   "display_name": "Python 3",
   "language": "python",
   "name": "python3"
  },
  "language_info": {
   "codemirror_mode": {
    "name": "ipython",
    "version": 3
   },
   "file_extension": ".py",
   "mimetype": "text/x-python",
   "name": "python",
   "nbconvert_exporter": "python",
   "pygments_lexer": "ipython3",
   "version": "3.7.7"
  }
 },
 "nbformat": 4,
 "nbformat_minor": 4
}
